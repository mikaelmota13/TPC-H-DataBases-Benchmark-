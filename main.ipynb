{
 "cells": [
  {
   "cell_type": "code",
   "execution_count": 1,
   "id": "907fcb1b",
   "metadata": {},
   "outputs": [],
   "source": [
    "import psycopg2\n",
    "import time\n",
    "import os\n",
    "import psutil\n",
    "import matplotlib.pyplot as plt"
   ]
  },
  {
   "cell_type": "code",
   "execution_count": 2,
   "id": "69e5f27e",
   "metadata": {},
   "outputs": [],
   "source": [
    "DB_CONFIG = {\n",
    "    \"dbname\": \"tpch\",\n",
    "    \"user\": \"postgres\",\n",
    "    \"password\": \"postgres\",\n",
    "    \"host\": \"localhost\",\n",
    "    \"port\": 5432\n",
    "}\n",
    "QUERIES_DIR = r\"tpch-kit\\dbgen\\queries_resolved\""
   ]
  },
  {
   "cell_type": "code",
   "execution_count": null,
   "id": "16a71a73",
   "metadata": {},
   "outputs": [],
   "source": [
    "def run_queries():\n",
    "    results = []\n",
    "    conn = psycopg2.connect(**DB_CONFIG)\n",
    "    cursor = conn.cursor()\n",
    "    psql_proc = [p for p in psutil.process_iter(['name']) if 'postgres' in p.info['name'].lower()]\n",
    "\n",
    "    for i in range(1, 23):\n",
    "        query_file = os.path.join(QUERIES_DIR, f\"q{i}.sql\")\n",
    "        with open(query_file, 'r') as f:\n",
    "            sql = f.read()\n",
    "\n",
    "        print(f\"Q{i}... \", end=\"\")\n",
    "        start = time.perf_counter()\n",
    "        cpu_before = sum(p.cpu_percent(interval=None) for p in psql_proc)\n",
    "        mem_before = sum(p.memory_info().rss for p in psql_proc)\n",
    "        \n",
    "        # isso aqui é pra ajustar pro postgres entender, pq ele n aceita o formato que ta na queria mas n sei se isso é certo fzr\n",
    "        #quando a gente gera as queries pelo qgen, ele deixa a formatação de algumas cisas no formato que os postgres n aceita \n",
    "        sql = (\n",
    "            sql.replace(\"day (3)\", \"day\")\n",
    "               .replace(\"limit -1\", \"\")\n",
    "               .replace(\");\\nlimit\", \"\\nlimit\")\n",
    "               .replace(\";\\nlimit\", \"\\nlimit\")\n",
    "               .strip()\n",
    "        )\n",
    "        \n",
    "        cursor.execute(sql)\n",
    "        _ = cursor.fetchall() if cursor.description else None\n",
    "\n",
    "        cpu_after = sum(p.cpu_percent(interval=0.1) for p in psql_proc)\n",
    "        mem_after = sum(p.memory_info().rss for p in psql_proc)\n",
    "        end = time.perf_counter()\n",
    "\n",
    "        duration = end - start\n",
    "        cpu = cpu_after\n",
    "        ram = (mem_after - mem_before) / (1024**2)  # em MB\n",
    "\n",
    "        print(f\"{duration:.2f}s | CPU: {cpu:.1f}% | RAM : {ram:.1f}MB\")\n",
    "        results.append((f\"Q{i}\", duration, cpu, ram))\n",
    "\n",
    "    cursor.close()\n",
    "    conn.close()\n",
    "\n",
    "    return results"
   ]
  },
  {
   "cell_type": "code",
   "execution_count": null,
   "id": "9b5e6b9e",
   "metadata": {},
   "outputs": [
    {
     "name": "stdout",
     "output_type": "stream",
     "text": [
      "Q1... 1.39s | CPU: 0.0% | RAM Δ: 0.0MB\n",
      "Q2... 0.18s | CPU: 0.0% | RAM Δ: 0.0MB\n",
      "Q3... 0.33s | CPU: 0.0% | RAM Δ: 0.0MB\n",
      "Q4... 0.13s | CPU: 0.0% | RAM Δ: 0.0MB\n",
      "Q5... 0.16s | CPU: 0.0% | RAM Δ: 0.0MB\n",
      "Q6... 0.18s | CPU: 0.0% | RAM Δ: 0.0MB\n",
      "Q7... 0.23s | CPU: 0.0% | RAM Δ: 0.0MB\n",
      "Q8... 0.43s | CPU: 0.0% | RAM Δ: 0.0MB\n",
      "Q9... 1.08s | CPU: 0.0% | RAM Δ: 0.0MB\n",
      "Q10... 0.39s | CPU: 0.0% | RAM Δ: 0.0MB\n",
      "Q11... 0.08s | CPU: 0.0% | RAM Δ: 0.0MB\n",
      "Q12... 0.36s | CPU: 0.0% | RAM Δ: 0.0MB\n",
      "Q13... 0.46s | CPU: 0.0% | RAM Δ: 0.0MB\n",
      "Q14... 0.19s | CPU: 0.0% | RAM Δ: 0.0MB\n",
      "Q15... "
     ]
    }
   ],
   "source": [
    "if __name__ == \"__main__\":\n",
    "    data = run_queries()"
   ]
  }
 ],
 "metadata": {
  "kernelspec": {
   "display_name": "venv",
   "language": "python",
   "name": "python3"
  },
  "language_info": {
   "codemirror_mode": {
    "name": "ipython",
    "version": 3
   },
   "file_extension": ".py",
   "mimetype": "text/x-python",
   "name": "python",
   "nbconvert_exporter": "python",
   "pygments_lexer": "ipython3",
   "version": "3.13.1"
  }
 },
 "nbformat": 4,
 "nbformat_minor": 5
}
